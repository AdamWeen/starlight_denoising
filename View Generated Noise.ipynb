{
 "cells": [
  {
   "cell_type": "code",
   "execution_count": 1,
   "id": "progressive-bicycle",
   "metadata": {},
   "outputs": [],
   "source": [
    "%load_ext autoreload\n",
    "%autoreload 2\n",
    "%matplotlib inline"
   ]
  },
  {
   "cell_type": "code",
   "execution_count": 2,
   "id": "mental-wilderness",
   "metadata": {},
   "outputs": [],
   "source": [
    "import sys, glob, os, imageio\n",
    "import numpy as np\n",
    "import matplotlib.pyplot as plt\n",
    "import torch\n",
    "import helper.canon_supervised_dataset as dset\n",
    "import helper.post_processing as pp\n",
    "import helper.utils as ut\n",
    "import matplotlib\n",
    "import helper.gan_helper_fun as gh\n",
    "from skimage import exposure\n",
    "matplotlib.rcParams.update({'font.size': 22})"
   ]
  },
  {
   "cell_type": "markdown",
   "id": "42244496",
   "metadata": {},
   "source": [
    "# View synthetic noise\n",
    "In this notebook, we load in our pretrained noise model, and show our synthetic noise vs. real noise from our camera."
   ]
  },
  {
   "cell_type": "markdown",
   "id": "5e09f696",
   "metadata": {},
   "source": [
    "## Load in saved model"
   ]
  },
  {
   "cell_type": "code",
   "execution_count": 3,
   "id": "bc6ec0f2",
   "metadata": {},
   "outputs": [
    {
     "name": "stdout",
     "output_type": "stream",
     "text": [
      "generator device 0\n",
      "current epoch 144\n"
     ]
    }
   ],
   "source": [
    "device = 'cuda:0'\n",
    "gpu = 0\n",
    "base_folder = 'saved_models/'\n",
    "generator = gh.load_generator2(base_folder + 'noise_generator', gpu).to(device)\n",
    "generator.keep_track = True"
   ]
  },
  {
   "cell_type": "markdown",
   "id": "13a14937",
   "metadata": {},
   "source": [
    "## Load in image "
   ]
  },
  {
   "cell_type": "code",
   "execution_count": 20,
   "id": "b41f9ad9",
   "metadata": {},
   "outputs": [],
   "source": [
    "#options: gan_gray, gan_color, natural \n",
    "dataset_arg = 'gan_color'\n",
    "dataset_list_test = dset.get_dataset_noise_visualization(dataset_arg)"
   ]
  },
  {
   "cell_type": "code",
   "execution_count": 21,
   "id": "d8b94007",
   "metadata": {},
   "outputs": [],
   "source": [
    "test_loader = torch.utils.data.DataLoader(dataset=dataset_list_test, \n",
    "                                           batch_size=1,\n",
    "                                           shuffle=False) "
   ]
  },
  {
   "cell_type": "code",
   "execution_count": 22,
   "id": "360393c1",
   "metadata": {},
   "outputs": [],
   "source": [
    "sample = dataset_list_test.__getitem__(1)"
   ]
  },
  {
   "cell_type": "code",
   "execution_count": 23,
   "id": "099dd4fc",
   "metadata": {},
   "outputs": [],
   "source": [
    "with torch.no_grad():\n",
    "    clean_raw = gh.t32(sample['gt_label_nobias'].unsqueeze(0).to(device))\n",
    "    real_noisy = sample['noisy_input'].cpu().detach().numpy().transpose(1,2,3,0)\n",
    "    clean_patch = sample['gt_label_nobias'].cpu().detach().numpy().transpose(1,2,3,0)\n",
    "\n",
    "    generator.indices = [10,10]\n",
    "    gen_noisy = generator(clean_raw, False)\n",
    "    gen_noisy_np = gen_noisy.cpu().detach().numpy().transpose(0,2,3,1)"
   ]
  },
  {
   "cell_type": "code",
   "execution_count": null,
   "id": "pretty-marks",
   "metadata": {},
   "outputs": [],
   "source": [
    "ind = 9\n",
    "sz = 256\n",
    "pp = [200,200]\n",
    "\n",
    "to_plot = [clean_patch[ind], gen_noisy_np[ind], real_noisy[ind]]\n",
    "titles = ['clean patch', 'real noise', 'generated noise']\n",
    "\n",
    "fig, ax = plt.subplots(1,3, figsize = (20,10))\n",
    "for i in range(0,3):\n",
    "    ax[i].imshow(to_plot[i][pp[0]:pp[0]+sz,pp[1]:pp[1]+sz,0:3]**(1/2.2)); \n",
    "    ax[i].axis('off');\n",
    "    ax[i].set_title(titles[i]);\n"
   ]
  },
  {
   "cell_type": "markdown",
   "id": "7df875aa",
   "metadata": {},
   "source": [
    "## View each noise component separately"
   ]
  },
  {
   "cell_type": "code",
   "execution_count": null,
   "id": "d03cdb41",
   "metadata": {},
   "outputs": [],
   "source": [
    "c = 0\n",
    "all_noise_comps = list(generator.all_noise.keys())\n",
    "fig, ax = plt.subplots(1,len(all_noise_comps), figsize = (20,10))\n",
    "for i in range(0,len(all_noise_comps)):\n",
    "        noise_curr = generator.all_noise[all_noise_comps[i]][0].transpose(1,2,0)[...,0:3]\n",
    "        ax[i].imshow(noise_curr[...,c])\n",
    "        ax[i].set_title(all_noise_comps[i])\n",
    "        ax[i].axis('off')"
   ]
  },
  {
   "cell_type": "code",
   "execution_count": null,
   "id": "0e22eabf",
   "metadata": {},
   "outputs": [],
   "source": []
  }
 ],
 "metadata": {
  "kernelspec": {
   "display_name": "Python [conda env:starlight] *",
   "language": "python",
   "name": "conda-env-starlight-py"
  },
  "language_info": {
   "codemirror_mode": {
    "name": "ipython",
    "version": 3
   },
   "file_extension": ".py",
   "mimetype": "text/x-python",
   "name": "python",
   "nbconvert_exporter": "python",
   "pygments_lexer": "ipython3",
   "version": "3.9.10"
  }
 },
 "nbformat": 4,
 "nbformat_minor": 5
}
